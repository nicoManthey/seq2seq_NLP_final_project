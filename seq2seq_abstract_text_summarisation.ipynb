{
 "cells": [
  {
   "cell_type": "code",
   "execution_count": 49,
   "metadata": {},
   "outputs": [
    {
     "name": "stdout",
     "output_type": "stream",
     "text": [
      "Python version\n",
      "3.7.1 (default, Dec 14 2018, 13:28:58) \n",
      "[Clang 4.0.1 (tags/RELEASE_401/final)]\n",
      "Version info.\n",
      "sys.version_info(major=3, minor=7, micro=1, releaselevel='final', serial=0)\n"
     ]
    }
   ],
   "source": [
    "import sys\n",
    "print(\"Python version\")\n",
    "print (sys.version)\n",
    "print(\"Version info.\")\n",
    "print (sys.version_info)"
   ]
  },
  {
   "cell_type": "code",
   "execution_count": 50,
   "metadata": {},
   "outputs": [
    {
     "name": "stdout",
     "output_type": "stream",
     "text": [
      "1.4.0\n"
     ]
    }
   ],
   "source": [
    "import torch\n",
    "print(torch.__version__)\n",
    "\n",
    "# 1.4.0"
   ]
  },
  {
   "cell_type": "markdown",
   "metadata": {},
   "source": [
    "<div class=\"alert alert-info\">\n",
    "\n",
    "### Abstract Text Summarisation using encoder-decoder with LSTM and attention\n",
    "    \n",
    "    \n",
    "Corpus: \n",
    "<ul>\n",
    "    <li> Annotated Enron Subject Line Corpus (AESLC)\n",
    "    <li> download link: https://github.com/ryanzhumich/AESLC\n",
    "    <li> paper: https://www.aclweb.org/anthology/P19-1043.pdf\n",
    "</ul>    \n",
    "    \n",
    "The task of that corpus is to predict the subject line of an email from the email text.\n",
    "    \n",
    "    \n",
    "Metrics used:\n",
    "<ul>\n",
    "    <li> Perplexity = a measurement of how well a probability distribution or probability model predicts a sample.\n",
    "    <li> ROUGE = number_of_overlappting_words / total_words_in_reference_summary\n",
    "    <li> BLEU = number_of_overlappting_words / total_words_in_system_summary   \n",
    "</ul>\n",
    "  \n",
    "    \n",
    "The results were not the best (around 10% ROUGE and BLEU). This could be improved by: \n",
    "<ul>\n",
    "    <li> taking more up to date NLP models like transformers\n",
    "    <li> more data\n",
    "    <li> more sophisticated methods like CopyNet https://arxiv.org/pdf/1603.06393.pdf\n",
    "</ul>"
   ]
  },
  {
   "cell_type": "code",
   "execution_count": 7,
   "metadata": {},
   "outputs": [],
   "source": [
    "import os\n",
    "from os import listdir\n",
    "from os.path import isfile, join\n",
    "\n",
    "import pandas as pd\n",
    "import numpy as np\n",
    "import random\n",
    "import math\n",
    "import time\n",
    "\n",
    "import spacy\n",
    "import en_core_web_sm\n",
    "spacy_en = en_core_web_sm.load()\n",
    "\n",
    "import torch\n",
    "import torch.nn as nn\n",
    "#from torch import optim\n",
    "import torch.optim as optim\n",
    "import torch.nn.functional as F\n",
    "\n",
    "import torchtext as tt\n",
    "from torchtext import data\n",
    "from torchtext.vocab import Vectors\n",
    "from torchtext.data import Field, BucketIterator\n",
    "\n",
    "import matplotlib.pyplot as plt\n",
    "\n",
    "from rouge_bleu import rouge_bleu"
   ]
  },
  {
   "cell_type": "code",
   "execution_count": 8,
   "metadata": {},
   "outputs": [
    {
     "data": {
      "text/plain": [
       "14436"
      ]
     },
     "execution_count": 8,
     "metadata": {},
     "output_type": "execute_result"
    }
   ],
   "source": [
    "# how many training files do we have?\n",
    "mypath = \"/Users/nico/UP/NLP/A_final_project/AESLC-master/enron_subject_line/train\"\n",
    "onlyfiles = [f for f in listdir(mypath) if isfile(join(mypath, f))]\n",
    "len(onlyfiles)"
   ]
  },
  {
   "cell_type": "code",
   "execution_count": 9,
   "metadata": {},
   "outputs": [],
   "source": [
    "def read_data(path, read_n_mails, max_words):\n",
    "    \"\"\"\n",
    "    Input:\n",
    "        path: path for train / val / test\n",
    "        max_words: integer, maximum number of words above which email is discarded\n",
    "\n",
    "    Output: processed data and targets\n",
    "    \"\"\"\n",
    "        \n",
    "    data = []\n",
    "    targets = []\n",
    "    onlyfiles = sorted([f for f in listdir(path) if isfile(join(path, f))])\n",
    "    for z, file in enumerate(reversed(onlyfiles)):\n",
    "        filepath = path + '/' + file\n",
    "        with open(filepath) as fp:\n",
    "            both = []\n",
    "            email = ''\n",
    "     \n",
    "            for i, line in enumerate(fp):\n",
    "                both.append(line.replace('\\n', '').replace('\\t', ' ')+ ' ')\n",
    "                        \n",
    "            # get subject line\n",
    "            # text = list of words\n",
    "            for i, line in enumerate(both):\n",
    "                if '@subject' in line:\n",
    "                    subject = both[i+1].lower()\n",
    "                    text = [line for line in both[0:i-1]]\n",
    "                    text = spacy_en(''.join(text))\n",
    "                    text = [token.text.lower() for token in text if ' ' not in token.text]  \n",
    "            \n",
    "            # discard email longer than max_words\n",
    "            if len(text) < max_words:\n",
    "                subject = [word for word in subject.split(' ')]\n",
    "                targets.append(subject)\n",
    "                data.append(text)\n",
    "            else:\n",
    "                pass\n",
    "            \n",
    "        if len(data) == read_n_mails:\n",
    "            return(data,targets)\n",
    "    \n",
    "    return (data, targets)"
   ]
  },
  {
   "cell_type": "code",
   "execution_count": 10,
   "metadata": {},
   "outputs": [
    {
     "data": {
      "text/plain": [
       "(1280, 11520)"
      ]
     },
     "execution_count": 10,
     "metadata": {},
     "output_type": "execute_result"
    }
   ],
   "source": [
    "256*5, 256*45"
   ]
  },
  {
   "cell_type": "code",
   "execution_count": 11,
   "metadata": {},
   "outputs": [],
   "source": [
    "\"\"\"\n",
    "Set amount to value between 1 and 5\n",
    "1: use full dataset\n",
    "2: use 1/2 dataset\n",
    "3: use 1/4 dataset\n",
    "4: use 1/16 dataset\n",
    "5: use 1/32 dataset\n",
    "6: use minimal dataset\n",
    "\n",
    "When using full dataset computation will maybe take an hour\n",
    "\"\"\"\n",
    "\n",
    "amount = 1\n",
    "\n",
    "if amount == 1:\n",
    "    data_size = (11520, 1280, 1280)    # (11500, 1200, 32), 200 mails, works\n",
    "if amount == 2:\n",
    "    data_size = (6000, 32*20, 32)      \n",
    "if amount == 3:\n",
    "    data_size = (3600, 32*10, 32)   \n",
    "if amount == 4:\n",
    "    data_size = (900, 32*10, 32)   \n",
    "if amount == 5:  \n",
    "    data_size = (450, 32*10, 32)   \n",
    "if amount == 6:    \n",
    "    data_size = (32, 32, 32)   \n",
    "\n",
    "number_of_epochs= 35\n",
    "    \n",
    "batch_tuple = (64,64,64)   # batch_size for train, val, test"
   ]
  },
  {
   "cell_type": "code",
   "execution_count": 12,
   "metadata": {},
   "outputs": [],
   "source": [
    "# Read in the data\n",
    "\n",
    "\n",
    "x, y = read_data(\"AESLC-master/enron_subject_line/train\", \n",
    "                 data_size[0],  # return this many emails\n",
    "                200)    # max number of words a sentence may have to be included in data    \n",
    "\n",
    "x_val, y_val = read_data('AESLC-master/enron_subject_line/dev', \n",
    "                         data_size[1],\n",
    "                         200)  \n",
    "\n",
    "x_test, y_test = read_data('AESLC-master/enron_subject_line/test', \n",
    "                           data_size[2],\n",
    "                           250)  \n",
    "\n",
    "all_x = x + x_val\n",
    "all_y = y + y_val"
   ]
  },
  {
   "cell_type": "code",
   "execution_count": 13,
   "metadata": {
    "scrolled": true
   },
   "outputs": [
    {
     "name": "stdout",
     "output_type": "stream",
     "text": [
      "average email length =  84.16296875\n",
      "average y length =  4.955234375\n"
     ]
    },
    {
     "data": {
      "image/png": "[encoded data removed]",
      "text/plain": [
       "<Figure size 432x288 with 1 Axes>"
      ]
     },
     "metadata": {
      "needs_background": "light"
     },
     "output_type": "display_data"
    }
   ],
   "source": [
    "mail_length = []\n",
    "for elem in all_x:\n",
    "    mail_length.append(len(elem))\n",
    "print('average email length = ', sum(mail_length) / len(mail_length))    \n",
    "    \n",
    "y_length = []\n",
    "for elem in all_y:\n",
    "    y_length.append(len(elem))\n",
    "print('average y length = ', sum(y_length) / len(y_length))\n",
    "    \n",
    "\n",
    "plt.plot(mail_length)\n",
    "plt.title('Number of words for emails in the train_dataset')\n",
    "plt.ylabel('number of words')\n",
    "plt.xlabel('email')\n",
    "plt.show()\n",
    "\n",
    "del all_x\n",
    "del all_y"
   ]
  },
  {
   "cell_type": "code",
   "execution_count": 47,
   "metadata": {},
   "outputs": [
    {
     "data": {
      "text/plain": [
       "(11520, 1280, 1280)"
      ]
     },
     "execution_count": 47,
     "metadata": {},
     "output_type": "execute_result"
    }
   ],
   "source": [
    "len(x), len(x_val), len(x_test)"
   ]
  },
  {
   "cell_type": "code",
   "execution_count": 14,
   "metadata": {},
   "outputs": [],
   "source": [
    "# Join list elements to a string again (because torchtext takes sentences not as lists of words but as string)\n",
    "\n",
    "x = [' '.join(elem) for elem in x]\n",
    "y = [' '.join(elem) for elem in y]\n",
    "\n",
    "x_val = [' '.join(elem) for elem in x_val]\n",
    "y_val = [' '.join(elem) for elem in y_val]\n",
    "\n",
    "x_test = [' '.join(elem) for elem in x_test]\n",
    "y_test = [' '.join(elem) for elem in y_test]"
   ]
  },
  {
   "cell_type": "markdown",
   "metadata": {},
   "source": [
    "<div class=\"alert alert-info\">\n",
    "\n",
    "### Restart form here"
   ]
  },
  {
   "cell_type": "code",
   "execution_count": 15,
   "metadata": {},
   "outputs": [],
   "source": [
    "batch_tuple = (4,4,4)"
   ]
  },
  {
   "cell_type": "code",
   "execution_count": 16,
   "metadata": {},
   "outputs": [],
   "source": [
    "# Save data to csv file\n",
    "# Torchtext will then pick up the csv files to build the dataset\n",
    "\n",
    "import pandas as pd\n",
    "train_df = pd.DataFrame({\n",
    "    'x':x,   # labels_id\n",
    "    'y': y   # fin_sentences    \n",
    "})\n",
    "\n",
    "val_df = pd.DataFrame({\n",
    "    'x_val':x,   # labels_id\n",
    "    'y_val': y   # fin_sentences    \n",
    "})\n",
    "\n",
    "test_df = pd.DataFrame({\n",
    "    'x_test':x,   # labels_id\n",
    "    'y_test': y   # fin_sentences    \n",
    "})\n",
    "\n",
    "train_df.to_csv('mail_train.tsv', sep='\\t', index=False, header=False)\n",
    "val_df.to_csv('mail_val.tsv', sep='\\t', index=False, header=False)\n",
    "test_df.to_csv('mail_test.tsv', sep='\\t', index=False, header=False)\n",
    "\n",
    "train_df_path = 'mail_train.tsv'\n",
    "val_df_path = 'mail_val.tsv'\n",
    "test_df_path = 'mail_test.tsv'"
   ]
  },
  {
   "cell_type": "code",
   "execution_count": 17,
   "metadata": {},
   "outputs": [],
   "source": [
    "SEED = 1234\n",
    "\n",
    "random.seed(SEED)\n",
    "np.random.seed(SEED)\n",
    "torch.manual_seed(SEED)\n",
    "torch.cuda.manual_seed(SEED)\n",
    "torch.backends.cudnn.deterministic = True"
   ]
  },
  {
   "cell_type": "code",
   "execution_count": 18,
   "metadata": {},
   "outputs": [],
   "source": [
    "device = torch.device('cuda' if torch.cuda.is_available() else 'cpu')\n"
   ]
  },
  {
   "cell_type": "code",
   "execution_count": 19,
   "metadata": {},
   "outputs": [],
   "source": [
    "glove_embeddings_path = './glove.6B.300d.sample.txt'"
   ]
  },
  {
   "cell_type": "code",
   "execution_count": 20,
   "metadata": {},
   "outputs": [],
   "source": [
    "TEXT = Field(#tokenize = tokenize_en,\n",
    "            init_token = '<sos>', \n",
    "            eos_token = '<eos>', \n",
    "            lower = True)\n",
    "\n",
    "SUMMARY = Field(#tokenize = tokenize_en,\n",
    "            init_token = '<sos>', \n",
    "            eos_token = '<eos>', \n",
    "            lower = True)"
   ]
  },
  {
   "cell_type": "code",
   "execution_count": 21,
   "metadata": {},
   "outputs": [],
   "source": [
    "# Build dataset\n",
    "\n",
    "train, val, test = data.TabularDataset.splits(\n",
    "    path='/Users/nico/UP/NLP/A_final_project', train='mail_train.tsv',\n",
    "    validation='mail_val.tsv', test='mail_test.tsv', format='tsv',\n",
    "    fields=[('text', TEXT), ('summary', SUMMARY)])\n",
    "\n",
    "train_iter, val_iter, test_iter = data.BucketIterator.splits(\n",
    "    (train, val, test), batch_sizes=batch_tuple,\n",
    "    sort_key=lambda x: len(x.text), device=device)\n",
    "\n",
    "TEXT.build_vocab(train, vectors=Vectors(glove_embeddings_path))\n",
    "SUMMARY.build_vocab(train, vectors=Vectors(glove_embeddings_path))\n",
    "\n",
    "vocab_text = TEXT.vocab\n",
    "vocab_summary = SUMMARY.vocab"
   ]
  },
  {
   "cell_type": "code",
   "execution_count": 22,
   "metadata": {},
   "outputs": [
    {
     "name": "stdout",
     "output_type": "stream",
     "text": [
      "{'text': ['phillip', 'good', 'morning', '!', 'i', 'hope', 'you', 'had', 'a', 'wonderful', 'thanksgiving', 'with', 'your', 'family', 'and', 'safe', 'travels', '.', 'as', 'per', 'our', 'meeting', 'on', 'tuesday', ',', 'please', 'identify', 'people', 'you', 'think', 'will', 'be', 'good', 'for', 'the', 'expert', 'story', 'roles', '.', 'you', 'can', 'provide', 'me', 'a', 'list', 'and', 'either', 'contact', 'them', 'first', 'or', 'provide', 'me', 'with', 'an', 'introduction', 'to', 'get', 'their', 'commitment', '.', 'thanks', 'a', 'million', 'in', 'advance', 'for', 'your', 'continued', 'support', 'of', 'this', 'project', '.'], 'summary': ['smes', 'for', 'expert', 'stories']}\n"
     ]
    }
   ],
   "source": [
    "# print an example pair of the data\n",
    "\n",
    "print(vars(train.examples[1]))"
   ]
  },
  {
   "cell_type": "markdown",
   "metadata": {},
   "source": [
    "<div class=\"alert alert-block alert-info\">\n",
    "    \n",
    "## Building Model architecture\n",
    "\n",
    "    \n",
    "<div>"
   ]
  },
  {
   "cell_type": "code",
   "execution_count": 23,
   "metadata": {},
   "outputs": [],
   "source": [
    "class Encoder(nn.Module):\n",
    "    def __init__(self, input_dim, emb_dim, enc_hid_dim, dec_hid_dim, dropout):\n",
    "        super().__init__()\n",
    "        \n",
    "        self.embedding = nn.Embedding(input_dim, emb_dim)\n",
    "        \n",
    "        self.rnn = nn.GRU(emb_dim, enc_hid_dim, bidirectional = True)\n",
    "        \n",
    "        self.fc = nn.Linear(enc_hid_dim * 2, dec_hid_dim)\n",
    "        \n",
    "        self.dropout = nn.Dropout(dropout)\n",
    "        \n",
    "    def forward(self, src):\n",
    "        \n",
    "        #src = [src len, batch size]\n",
    "        \n",
    "        embedded = self.dropout(self.embedding(src))\n",
    "        \n",
    "        #embedded = [src len, batch size, emb dim]\n",
    "        \n",
    "        outputs, hidden = self.rnn(embedded)\n",
    "                \n",
    "        #outputs = [src len, batch size, hid dim * num directions]\n",
    "        #hidden = [n layers * num directions, batch size, hid dim]\n",
    "        \n",
    "        #hidden is stacked [forward_1, backward_1, forward_2, backward_2, ...]\n",
    "        #outputs are always from the last layer\n",
    "        \n",
    "        #hidden [-2, :, : ] is the last of the forwards RNN \n",
    "        #hidden [-1, :, : ] is the last of the backwards RNN\n",
    "        \n",
    "        #initial decoder hidden is final hidden state of the forwards and backwards \n",
    "        #  encoder RNNs fed through a linear layer\n",
    "        hidden = torch.tanh(self.fc(torch.cat((hidden[-2,:,:], hidden[-1,:,:]), dim = 1)))\n",
    "        \n",
    "        #outputs = [src len, batch size, enc hid dim * 2]\n",
    "        #hidden = [batch size, dec hid dim]\n",
    "        \n",
    "        return outputs, hidden"
   ]
  },
  {
   "cell_type": "code",
   "execution_count": 24,
   "metadata": {},
   "outputs": [],
   "source": [
    "class Attention(nn.Module):\n",
    "    def __init__(self, enc_hid_dim, dec_hid_dim):\n",
    "        super().__init__()\n",
    "        \n",
    "        self.attn = nn.Linear((enc_hid_dim * 2) + dec_hid_dim, dec_hid_dim)\n",
    "        self.v = nn.Linear(dec_hid_dim, 1, bias = False)\n",
    "        \n",
    "    def forward(self, hidden, encoder_outputs):\n",
    "        \n",
    "        #hidden = [batch size, dec hid dim]\n",
    "        #encoder_outputs = [src len, batch size, enc hid dim * 2]\n",
    "        \n",
    "        batch_size = encoder_outputs.shape[1]\n",
    "        src_len = encoder_outputs.shape[0]\n",
    "        \n",
    "        #repeat decoder hidden state src_len times\n",
    "        hidden = hidden.unsqueeze(1).repeat(1, src_len, 1)\n",
    "        \n",
    "        encoder_outputs = encoder_outputs.permute(1, 0, 2)\n",
    "        \n",
    "        #hidden = [batch size, src len, dec hid dim]\n",
    "        #encoder_outputs = [batch size, src len, enc hid dim * 2]\n",
    "        \n",
    "        energy = torch.tanh(self.attn(torch.cat((hidden, encoder_outputs), dim = 2))) \n",
    "        \n",
    "        #energy = [batch size, src len, dec hid dim]\n",
    "\n",
    "        attention = self.v(energy).squeeze(2)\n",
    "        \n",
    "        #attention= [batch size, src len]\n",
    "        \n",
    "        return F.softmax(attention, dim=1)\n"
   ]
  },
  {
   "cell_type": "code",
   "execution_count": 25,
   "metadata": {},
   "outputs": [],
   "source": [
    "class Decoder(nn.Module):\n",
    "    def __init__(self, output_dim, emb_dim, enc_hid_dim, dec_hid_dim, dropout, attention):\n",
    "        super().__init__()\n",
    "\n",
    "        self.output_dim = output_dim\n",
    "        self.attention = attention\n",
    "        \n",
    "        self.embedding = nn.Embedding(output_dim, emb_dim)\n",
    "        \n",
    "        self.rnn = nn.GRU((enc_hid_dim * 2) + emb_dim, dec_hid_dim)\n",
    "        \n",
    "        self.fc_out = nn.Linear((enc_hid_dim * 2) + dec_hid_dim + emb_dim, output_dim)\n",
    "        \n",
    "        self.dropout = nn.Dropout(dropout)\n",
    "        \n",
    "    def forward(self, input, hidden, encoder_outputs):\n",
    "             \n",
    "        #input = [batch size]\n",
    "        #hidden = [batch size, dec hid dim]\n",
    "        #encoder_outputs = [src len, batch size, enc hid dim * 2]\n",
    "        \n",
    "        input = input.unsqueeze(0)\n",
    "        \n",
    "        #input = [1, batch size]\n",
    "        \n",
    "        embedded = self.dropout(self.embedding(input))\n",
    "        \n",
    "        #embedded = [1, batch size, emb dim]\n",
    "        \n",
    "        a = self.attention(hidden, encoder_outputs)\n",
    "                \n",
    "        #a = [batch size, src len]\n",
    "        \n",
    "        a = a.unsqueeze(1)\n",
    "        \n",
    "        #a = [batch size, 1, src len]\n",
    "        \n",
    "        encoder_outputs = encoder_outputs.permute(1, 0, 2)\n",
    "        \n",
    "        #encoder_outputs = [batch size, src len, enc hid dim * 2]\n",
    "        \n",
    "        weighted = torch.bmm(a, encoder_outputs)\n",
    "        \n",
    "        #weighted = [batch size, 1, enc hid dim * 2]\n",
    "        \n",
    "        weighted = weighted.permute(1, 0, 2)\n",
    "        \n",
    "        #weighted = [1, batch size, enc hid dim * 2]\n",
    "        \n",
    "        rnn_input = torch.cat((embedded, weighted), dim = 2)\n",
    "        \n",
    "        #rnn_input = [1, batch size, (enc hid dim * 2) + emb dim]\n",
    "            \n",
    "        output, hidden = self.rnn(rnn_input, hidden.unsqueeze(0))\n",
    "        \n",
    "        #output = [seq len, batch size, dec hid dim * n directions]\n",
    "        #hidden = [n layers * n directions, batch size, dec hid dim]\n",
    "        \n",
    "        #seq len, n layers and n directions will always be 1 in this decoder, therefore:\n",
    "        #output = [1, batch size, dec hid dim]\n",
    "        #hidden = [1, batch size, dec hid dim]\n",
    "        #this also means that output == hidden\n",
    "        assert (output == hidden).all()\n",
    "        \n",
    "        embedded = embedded.squeeze(0)\n",
    "        output = output.squeeze(0)\n",
    "        weighted = weighted.squeeze(0)\n",
    "        \n",
    "        prediction = self.fc_out(torch.cat((output, weighted, embedded), dim = 1))\n",
    "        \n",
    "        #prediction = [batch size, output dim]\n",
    "        \n",
    "        return prediction, hidden.squeeze(0)"
   ]
  },
  {
   "cell_type": "code",
   "execution_count": 26,
   "metadata": {},
   "outputs": [],
   "source": [
    "class Seq2Seq(nn.Module):\n",
    "    def __init__(self, encoder, decoder, device):\n",
    "        super().__init__()\n",
    "        \n",
    "        self.encoder = encoder\n",
    "        self.decoder = decoder\n",
    "        self.device = device\n",
    "        \n",
    "    def forward(self, src, trg, teacher_forcing_ratio = 0.5):\n",
    "        \n",
    "        #src = [src len, batch size]\n",
    "        #trg = [trg len, batch size]\n",
    "        #teacher_forcing_ratio is probability to use teacher forcing\n",
    "        #e.g. if teacher_forcing_ratio is 0.75 we use teacher forcing 75% of the time\n",
    "        \n",
    "        batch_size = src.shape[1]\n",
    "        trg_len = trg.shape[0]\n",
    "        trg_vocab_size = self.decoder.output_dim\n",
    "        \n",
    "        #tensor to store decoder outputs\n",
    "        outputs = torch.zeros(trg_len, batch_size, trg_vocab_size).to(self.device)\n",
    "        \n",
    "        #encoder_outputs is all hidden states of the input sequence, back and forwards\n",
    "        #hidden is the final forward and backward hidden states, passed through a linear layer\n",
    "        encoder_outputs, hidden = self.encoder(src)\n",
    "                \n",
    "        #first input to the decoder is the <sos> tokens\n",
    "        input = trg[0,:]\n",
    "        \n",
    "        for t in range(1, trg_len):\n",
    "            \n",
    "            #insert input token embedding, previous hidden state and all encoder hidden states\n",
    "            #receive output tensor (predictions) and new hidden state\n",
    "            output, hidden = self.decoder(input, hidden, encoder_outputs)\n",
    "            \n",
    "            #place predictions in a tensor holding predictions for each token\n",
    "            outputs[t] = output\n",
    "            \n",
    "            #decide if we are going to use teacher forcing or not\n",
    "            teacher_force = random.random() < teacher_forcing_ratio\n",
    "            \n",
    "            #get the highest predicted token from our predictions\n",
    "            top1 = output.argmax(1) \n",
    "            \n",
    "            #if teacher forcing, use actual next token as next input\n",
    "            #if not, use predicted token\n",
    "            input = trg[t] if teacher_force else top1\n",
    "\n",
    "        return outputs"
   ]
  },
  {
   "cell_type": "code",
   "execution_count": 27,
   "metadata": {},
   "outputs": [],
   "source": [
    "INPUT_DIM = len(TEXT.vocab) \n",
    "OUTPUT_DIM = len(SUMMARY.vocab) \n",
    "ENC_EMB_DIM = 256\n",
    "DEC_EMB_DIM = 256\n",
    "ENC_HID_DIM = 512\n",
    "DEC_HID_DIM = 512\n",
    "ENC_DROPOUT = 0.5\n",
    "DEC_DROPOUT = 0.5\n",
    "\n",
    "attn = Attention(ENC_HID_DIM, DEC_HID_DIM)\n",
    "enc = Encoder(INPUT_DIM, ENC_EMB_DIM, ENC_HID_DIM, DEC_HID_DIM, ENC_DROPOUT)\n",
    "dec = Decoder(OUTPUT_DIM, DEC_EMB_DIM, ENC_HID_DIM, DEC_HID_DIM, DEC_DROPOUT, attn)\n",
    "\n",
    "model = Seq2Seq(enc, dec, device).to(device)"
   ]
  },
  {
   "cell_type": "code",
   "execution_count": 28,
   "metadata": {},
   "outputs": [
    {
     "data": {
      "text/plain": [
       "Seq2Seq(\n",
       "  (encoder): Encoder(\n",
       "    (embedding): Embedding(1723, 256)\n",
       "    (rnn): GRU(256, 512, bidirectional=True)\n",
       "    (fc): Linear(in_features=1024, out_features=512, bias=True)\n",
       "    (dropout): Dropout(p=0.5, inplace=False)\n",
       "  )\n",
       "  (decoder): Decoder(\n",
       "    (attention): Attention(\n",
       "      (attn): Linear(in_features=1536, out_features=512, bias=True)\n",
       "      (v): Linear(in_features=512, out_features=1, bias=False)\n",
       "    )\n",
       "    (embedding): Embedding(269, 256)\n",
       "    (rnn): GRU(1280, 512)\n",
       "    (fc_out): Linear(in_features=1792, out_features=269, bias=True)\n",
       "    (dropout): Dropout(p=0.5, inplace=False)\n",
       "  )\n",
       ")"
      ]
     },
     "execution_count": 28,
     "metadata": {},
     "output_type": "execute_result"
    }
   ],
   "source": [
    "def init_weights(m):\n",
    "    for name, param in m.named_parameters():\n",
    "        if 'weight' in name:\n",
    "            nn.init.normal_(param.data, mean=0, std=0.01)\n",
    "        else:\n",
    "            nn.init.constant_(param.data, 0)\n",
    "            \n",
    "model.apply(init_weights)"
   ]
  },
  {
   "cell_type": "code",
   "execution_count": 29,
   "metadata": {},
   "outputs": [],
   "source": [
    "optimizer = optim.Adam(model.parameters())\n"
   ]
  },
  {
   "cell_type": "code",
   "execution_count": 30,
   "metadata": {},
   "outputs": [],
   "source": [
    "SUM_PAD_IDX = SUMMARY.vocab.stoi[SUMMARY.pad_token]\n",
    "\n",
    "criterion = nn.CrossEntropyLoss(ignore_index = SUM_PAD_IDX)"
   ]
  },
  {
   "cell_type": "code",
   "execution_count": 31,
   "metadata": {},
   "outputs": [],
   "source": [
    "def train(model, iterator, optimizer, criterion, clip):\n",
    "    \n",
    "    model.train()\n",
    "    \n",
    "    epoch_loss = 0\n",
    "    \n",
    "    for i, batch in enumerate(iterator):\n",
    "\n",
    "        src = batch.text\n",
    "        trg = batch.summary\n",
    "        \n",
    "        optimizer.zero_grad()\n",
    "        \n",
    "        output = model(src, trg)\n",
    "        \n",
    "        #trg = [trg len, batch size]\n",
    "        #output = [trg len, batch size, output dim]\n",
    "        \n",
    "        output_dim = output.shape[-1]\n",
    "        \n",
    "        output = output[1:].view(-1, output_dim)\n",
    "        trg = trg[1:].view(-1)\n",
    "        \n",
    "        #trg = [(trg len - 1) * batch size]\n",
    "        #output = [(trg len - 1) * batch size, output dim]\n",
    "        \n",
    "        loss = criterion(output, trg)\n",
    "        \n",
    "        loss.backward()\n",
    "        \n",
    "        torch.nn.utils.clip_grad_norm_(model.parameters(), clip)\n",
    "        \n",
    "        optimizer.step()\n",
    "        \n",
    "        epoch_loss += loss.item()\n",
    "        \n",
    "    return epoch_loss / len(iterator)\n"
   ]
  },
  {
   "cell_type": "code",
   "execution_count": 32,
   "metadata": {},
   "outputs": [],
   "source": [
    "def evaluate(model, iterator, criterion):\n",
    "    \n",
    "    model.eval()\n",
    "    \n",
    "    epoch_loss = 0\n",
    "    \n",
    "    with torch.no_grad():\n",
    "    \n",
    "        for i, batch in enumerate(iterator):\n",
    "\n",
    "            src = batch.text\n",
    "            trg = batch.summary\n",
    "\n",
    "            output = model(src, trg, 0) #turn off teacher forcing\n",
    "\n",
    "            #trg = [trg len, batch size]\n",
    "            #output = [trg len, batch size, output dim]\n",
    "\n",
    "            output_dim = output.shape[-1]\n",
    "            \n",
    "            output = output[1:].view(-1, output_dim)\n",
    "            trg = trg[1:].view(-1)\n",
    "\n",
    "            #trg = [(trg len - 1) * batch size]\n",
    "            #output = [(trg len - 1) * batch size, output dim]\n",
    "\n",
    "            loss = criterion(output, trg)\n",
    "\n",
    "            epoch_loss += loss.item()\n",
    "        \n",
    "    return epoch_loss / len(iterator)"
   ]
  },
  {
   "cell_type": "code",
   "execution_count": 33,
   "metadata": {},
   "outputs": [],
   "source": [
    "def get_output_to_print_sentences(model, iterator, criterion):    \n",
    "    model.eval()\n",
    "        \n",
    "    with torch.no_grad():\n",
    "        \n",
    "        output_all = []\n",
    "        gold_all = []\n",
    "    \n",
    "        for i, batch in enumerate(iterator):\n",
    "\n",
    "            src = batch.text\n",
    "            trg = batch.summary\n",
    "            \n",
    "            #print(src.shape)\n",
    "\n",
    "            output = model(src, trg, 0) #turn off teacher forcing\n",
    "\n",
    "            #trg = [trg len, batch size]\n",
    "            #output = [trg len, batch size, output dim]\n",
    "\n",
    "            output_dim = output.shape[-1]\n",
    "            \n",
    "            output = output[1:].view(-1, output_dim)\n",
    "            trg = trg[1:].view(-1)\n",
    "\n",
    "            #trg = [(trg len - 1) * batch size]\n",
    "            #output = [(trg len - 1) * batch size, output dim]\n",
    "            \n",
    "            output_all.append(output)\n",
    "            gold_all.append(trg)\n",
    "        \n",
    "    return output_all, gold_all"
   ]
  },
  {
   "cell_type": "code",
   "execution_count": 34,
   "metadata": {},
   "outputs": [],
   "source": [
    "# print results and compute ROUGE and BLEU metrics for the validation data\n",
    "# this cell is kind of messy but serves the purpose\n",
    "\n",
    "\n",
    "\n",
    "def print_results(output, target, print_y_n):\n",
    "    results = [ [] for i in range(batch_tuple[1]) ]\n",
    "    source = [ [] for i in range(batch_tuple[1]) ]\n",
    "    n = 0\n",
    "    for i in range(output.shape[0]):\n",
    "        \n",
    "        results[n].append(vocab_summary.itos[    int(output[i].data.topk(1)[1])])\n",
    "        source[n].append(vocab_summary.itos[target[i]]     )\n",
    "        \n",
    "        #print(vocab_summary.itos[    int(output[i].data.topk(1)[0])])\n",
    "\n",
    "\n",
    "        if n == batch_tuple[1]-1:\n",
    "            n = 0\n",
    "        else:\n",
    "            n += 1\n",
    "    \n",
    "    \n",
    "    rouge, bleu = 0, 0\n",
    "    \n",
    "    remove_words = ['<eos>', '<pad>', '']\n",
    "    #remove_words = []\n",
    "    \n",
    "    #print(results)\n",
    "    \n",
    "    for i in range(len(results)):\n",
    "        results[i] = [word for word in results[i] if word not in remove_words]\n",
    "        source[i] = [word for word in source[i] if word not in remove_words]\n",
    "       \n",
    "\n",
    "        r,b = rouge_bleu(results[i], source[i])\n",
    "        if print_y_n:\n",
    "            print(r,b)\n",
    "        rouge += r\n",
    "        bleu += b\n",
    "        \n",
    "        if print_y_n:\n",
    "            print('generated_summary = ', ' '.join(results[i]))\n",
    "            print('target_summary    = ', ' '.join(source[i]))    \n",
    "            print()\n",
    "            \n",
    "    return rouge, bleu\n",
    "\n",
    "def r_b_one_epoch(out, trg, yes_no):\n",
    "    r,b = 0,0\n",
    "    rouge, bleu = 0,0\n",
    "    count = 0\n",
    "    for z in range(len(out)):\n",
    "        count += batch_tuple[1]\n",
    "        r,b = print_results(out[z], trg[z], yes_no)\n",
    "        rouge += r\n",
    "        bleu += b\n",
    "    print(count)\n",
    "    return rouge/count, bleu/count"
   ]
  },
  {
   "cell_type": "code",
   "execution_count": 35,
   "metadata": {},
   "outputs": [],
   "source": [
    "def epoch_time(start_time, end_time):\n",
    "    elapsed_time = end_time - start_time\n",
    "    elapsed_mins = int(elapsed_time / 60)\n",
    "    elapsed_secs = int(elapsed_time - (elapsed_mins * 60))\n",
    "    return elapsed_mins, elapsed_secs"
   ]
  },
  {
   "cell_type": "code",
   "execution_count": 36,
   "metadata": {},
   "outputs": [
    {
     "name": "stdout",
     "output_type": "stream",
     "text": [
      "128\n",
      "Epoch: 01 | Time: 1m 12s\n",
      "\tTrain Loss: 5.825 | Train PPL: 338.695\n",
      "\t Val. Loss: 4.658 |  Val. PPL: 105.443\n",
      "128\n",
      "Epoch: 02 | Time: 0m 49s\n",
      "\tTrain Loss: 4.650 | Train PPL: 104.619\n",
      "\t Val. Loss: 4.509 |  Val. PPL:  90.854\n",
      "128\n",
      "Epoch: 03 | Time: 0m 53s\n",
      "\tTrain Loss: 4.382 | Train PPL:  79.973\n",
      "\t Val. Loss: 4.565 |  Val. PPL:  96.033\n",
      "128\n",
      "Epoch: 04 | Time: 0m 46s\n",
      "\tTrain Loss: 4.104 | Train PPL:  60.583\n",
      "\t Val. Loss: 3.873 |  Val. PPL:  48.103\n",
      "128\n",
      "Epoch: 05 | Time: 0m 46s\n",
      "\tTrain Loss: 3.930 | Train PPL:  50.917\n",
      "\t Val. Loss: 3.699 |  Val. PPL:  40.401\n",
      "128\n",
      "Epoch: 06 | Time: 0m 45s\n",
      "\tTrain Loss: 3.681 | Train PPL:  39.674\n",
      "\t Val. Loss: 3.423 |  Val. PPL:  30.647\n",
      "128\n",
      "Epoch: 07 | Time: 0m 45s\n",
      "\tTrain Loss: 3.368 | Train PPL:  29.028\n",
      "\t Val. Loss: 3.102 |  Val. PPL:  22.248\n",
      "128\n",
      "Epoch: 08 | Time: 0m 46s\n",
      "\tTrain Loss: 3.112 | Train PPL:  22.477\n",
      "\t Val. Loss: 2.899 |  Val. PPL:  18.151\n",
      "128\n",
      "Epoch: 09 | Time: 0m 46s\n",
      "\tTrain Loss: 2.917 | Train PPL:  18.480\n",
      "\t Val. Loss: 2.818 |  Val. PPL:  16.737\n",
      "128\n",
      "Epoch: 10 | Time: 0m 47s\n",
      "\tTrain Loss: 2.642 | Train PPL:  14.045\n",
      "\t Val. Loss: 2.462 |  Val. PPL:  11.725\n",
      "128\n",
      "Epoch: 11 | Time: 0m 46s\n",
      "\tTrain Loss: 2.372 | Train PPL:  10.719\n",
      "\t Val. Loss: 2.235 |  Val. PPL:   9.345\n",
      "128\n",
      "Epoch: 12 | Time: 0m 46s\n",
      "\tTrain Loss: 2.178 | Train PPL:   8.832\n",
      "\t Val. Loss: 1.980 |  Val. PPL:   7.240\n",
      "128\n",
      "Epoch: 13 | Time: 0m 46s\n",
      "\tTrain Loss: 2.006 | Train PPL:   7.431\n",
      "\t Val. Loss: 1.963 |  Val. PPL:   7.122\n",
      "128\n",
      "Epoch: 14 | Time: 0m 46s\n",
      "\tTrain Loss: 1.867 | Train PPL:   6.472\n",
      "\t Val. Loss: 1.757 |  Val. PPL:   5.792\n",
      "128\n",
      "Epoch: 15 | Time: 0m 46s\n",
      "\tTrain Loss: 1.734 | Train PPL:   5.665\n",
      "\t Val. Loss: 1.628 |  Val. PPL:   5.095\n",
      "128\n",
      "Epoch: 16 | Time: 0m 46s\n",
      "\tTrain Loss: 1.727 | Train PPL:   5.623\n",
      "\t Val. Loss: 1.616 |  Val. PPL:   5.035\n",
      "128\n",
      "Epoch: 17 | Time: 0m 45s\n",
      "\tTrain Loss: 1.524 | Train PPL:   4.591\n",
      "\t Val. Loss: 1.375 |  Val. PPL:   3.955\n",
      "128\n",
      "Epoch: 18 | Time: 0m 51s\n",
      "\tTrain Loss: 1.386 | Train PPL:   3.998\n",
      "\t Val. Loss: 1.244 |  Val. PPL:   3.470\n",
      "128\n",
      "Epoch: 19 | Time: 0m 51s\n",
      "\tTrain Loss: 1.239 | Train PPL:   3.453\n",
      "\t Val. Loss: 1.303 |  Val. PPL:   3.682\n",
      "128\n",
      "Epoch: 20 | Time: 0m 46s\n",
      "\tTrain Loss: 1.098 | Train PPL:   2.998\n",
      "\t Val. Loss: 0.969 |  Val. PPL:   2.636\n",
      "128\n",
      "Epoch: 21 | Time: 0m 45s\n",
      "\tTrain Loss: 1.010 | Train PPL:   2.746\n",
      "\t Val. Loss: 0.892 |  Val. PPL:   2.439\n",
      "128\n",
      "Epoch: 22 | Time: 0m 46s\n",
      "\tTrain Loss: 0.765 | Train PPL:   2.150\n",
      "\t Val. Loss: 0.728 |  Val. PPL:   2.071\n",
      "128\n",
      "Epoch: 23 | Time: 0m 46s\n",
      "\tTrain Loss: 0.666 | Train PPL:   1.947\n",
      "\t Val. Loss: 0.576 |  Val. PPL:   1.778\n",
      "128\n",
      "Epoch: 24 | Time: 0m 46s\n",
      "\tTrain Loss: 0.472 | Train PPL:   1.603\n",
      "\t Val. Loss: 0.575 |  Val. PPL:   1.776\n",
      "128\n",
      "Epoch: 25 | Time: 0m 51s\n",
      "\tTrain Loss: 0.450 | Train PPL:   1.569\n",
      "\t Val. Loss: 0.403 |  Val. PPL:   1.497\n",
      "128\n",
      "Epoch: 26 | Time: 0m 45s\n",
      "\tTrain Loss: 0.407 | Train PPL:   1.502\n",
      "\t Val. Loss: 0.337 |  Val. PPL:   1.401\n",
      "128\n",
      "Epoch: 27 | Time: 0m 46s\n",
      "\tTrain Loss: 0.270 | Train PPL:   1.311\n",
      "\t Val. Loss: 0.243 |  Val. PPL:   1.276\n",
      "128\n",
      "Epoch: 28 | Time: 0m 47s\n",
      "\tTrain Loss: 0.256 | Train PPL:   1.292\n",
      "\t Val. Loss: 0.253 |  Val. PPL:   1.287\n",
      "128\n",
      "Epoch: 29 | Time: 0m 45s\n",
      "\tTrain Loss: 0.186 | Train PPL:   1.204\n",
      "\t Val. Loss: 0.154 |  Val. PPL:   1.166\n",
      "128\n",
      "Epoch: 30 | Time: 0m 44s\n",
      "\tTrain Loss: 0.156 | Train PPL:   1.169\n",
      "\t Val. Loss: 0.189 |  Val. PPL:   1.207\n",
      "128\n",
      "Epoch: 31 | Time: 0m 46s\n",
      "\tTrain Loss: 0.126 | Train PPL:   1.135\n",
      "\t Val. Loss: 0.087 |  Val. PPL:   1.091\n",
      "128\n",
      "Epoch: 32 | Time: 0m 45s\n",
      "\tTrain Loss: 0.108 | Train PPL:   1.114\n",
      "\t Val. Loss: 0.116 |  Val. PPL:   1.123\n",
      "128\n",
      "Epoch: 33 | Time: 0m 47s\n",
      "\tTrain Loss: 0.128 | Train PPL:   1.136\n",
      "\t Val. Loss: 0.052 |  Val. PPL:   1.054\n",
      "128\n",
      "Epoch: 34 | Time: 0m 45s\n",
      "\tTrain Loss: 0.062 | Train PPL:   1.064\n",
      "\t Val. Loss: 0.043 |  Val. PPL:   1.043\n",
      "128\n",
      "Epoch: 35 | Time: 0m 45s\n",
      "\tTrain Loss: 0.091 | Train PPL:   1.096\n",
      "\t Val. Loss: 0.036 |  Val. PPL:   1.037\n"
     ]
    }
   ],
   "source": [
    "N_EPOCHS = number_of_epochs\n",
    "CLIP = 1\n",
    "\n",
    "best_valid_loss = float('inf')\n",
    "\n",
    "perplexity_train = []\n",
    "perplexity_val = []\n",
    "rouge_val = []\n",
    "bleu_val = []\n",
    "r = 0\n",
    "b = 0\n",
    "\n",
    "for epoch in range(N_EPOCHS):\n",
    "    \n",
    "    start_time = time.time()\n",
    "    \n",
    "    train_loss = train(model, train_iter, optimizer, criterion, CLIP)\n",
    "    valid_loss = evaluate(model, val_iter, criterion)\n",
    "    out, trg = get_output_to_print_sentences(model, val_iter, criterion)\n",
    "    r,b = r_b_one_epoch(out,trg, False)\n",
    "    rouge_val.append(r)\n",
    "    bleu_val.append(b)\n",
    "    \n",
    "    end_time = time.time()\n",
    "    \n",
    "    epoch_mins, epoch_secs = epoch_time(start_time, end_time)\n",
    "    \n",
    "    if valid_loss < best_valid_loss:\n",
    "        best_valid_loss = valid_loss\n",
    "        torch.save(model.state_dict(), 'tut3-model.pt')\n",
    "    \n",
    "    print(f'Epoch: {epoch+1:02} | Time: {epoch_mins}m {epoch_secs}s')\n",
    "    print(f'\\tTrain Loss: {train_loss:.3f} | Train PPL: {math.exp(train_loss):7.3f}')\n",
    "    print(f'\\t Val. Loss: {valid_loss:.3f} |  Val. PPL: {math.exp(valid_loss):7.3f}')\n",
    "    \n",
    "    perplexity_train.append(math.exp(train_loss))\n",
    "    perplexity_val.append(math.exp(valid_loss))"
   ]
  },
  {
   "cell_type": "code",
   "execution_count": 39,
   "metadata": {},
   "outputs": [],
   "source": [
    "import matplotlib.axes as ax"
   ]
  },
  {
   "cell_type": "code",
   "execution_count": 45,
   "metadata": {},
   "outputs": [
    {
     "data": {
      "image/png": "[encoded data removed]",
      "text/plain": [
       "<Figure size 432x288 with 1 Axes>"
      ]
     },
     "metadata": {
      "needs_background": "light"
     },
     "output_type": "display_data"
    }
   ],
   "source": [
    "#handles, labels = ax.get_legend_handles_labels()\n",
    "#ax.legend(handles, labels)\n",
    "\n",
    "plt.title('Training & Validation Perplexity in Epoch x, batch size 4')\n",
    "plt.ylabel('Train & Val Perplexity')\n",
    "plt.xlabel('Epoch')\n",
    "plt.yscale('log')\n",
    "line_up, = plt.plot(perplexity_train, label='Train Perplexity')\n",
    "line_down, = plt.plot(perplexity_val, label='Val Perplexity')\n",
    "plt.legend(handles=[line_up, line_down])\n",
    "#plt.savefig('train_val_perplexity_batch_size_4.png')"
   ]
  },
  {
   "cell_type": "code",
   "execution_count": 46,
   "metadata": {},
   "outputs": [
    {
     "data": {
      "image/png": "[encoded data removed]",
      "text/plain": [
       "<Figure size 432x288 with 1 Axes>"
      ]
     },
     "metadata": {
      "needs_background": "light"
     },
     "output_type": "display_data"
    }
   ],
   "source": [
    "#handles, labels = ax.get_legend_handles_labels()\n",
    "#ax.legend(handles, labels)\n",
    "\n",
    "plt.title('ROUGE & BLEU in Epoch x, batch size 4')\n",
    "plt.ylabel('ROUGE & BLEU score')\n",
    "plt.xlabel('Epoch')\n",
    "line_up, = plt.plot(rouge_val, label='ROUGE')\n",
    "line_down, = plt.plot(bleu_val, label='BLEU')\n",
    "plt.legend(handles=[line_up, line_down])\n",
    "#plt.savefig('r_b_epoch_batch_size_4.png')"
   ]
  },
  {
   "cell_type": "code",
   "execution_count": null,
   "metadata": {},
   "outputs": [],
   "source": [
    "out, trg = get_output_to_print_sentences(model, test_iter, criterion)\n",
    "rouge, bleu = r_b_one_epoch(out, trg, True)"
   ]
  },
  {
   "cell_type": "code",
   "execution_count": null,
   "metadata": {},
   "outputs": [],
   "source": [
    "# ROUGE = number_of_overlappting_words / total_words_in_reference_summary\n",
    "# BLEU = number_of_overlappting_words / total_words_in_system_summary\n",
    "\n",
    "# So, a score of 1.0 is perfect, a score of 0.0 is worst. \n",
    "\n",
    "# So... performance here is improvable, to say the least.\n",
    "\n",
    "# When training for 10 epochs with 3000 emails we had ROUGE and BLEU of 7 %\n",
    "# That score could be increased by:\n",
    "\n",
    "# more training data\n",
    "# better text_preprocessing (was missing the time because the data was initially processed for an other notebook)\n",
    "\n",
    "\n",
    "\n",
    "print('average ROUGE score = ',rouge) # count\n",
    "print('average BLEU score = ', bleu) # count\n",
    "\n",
    "\n",
    "# 0.236\n",
    "# 0.230\n",
    "\n",
    "# batch_size = 8\n",
    "# 0.86\n",
    "# 0.86\n",
    "\n",
    "# batch_size = 4\n",
    "# 0.98\n",
    "# 0.97"
   ]
  },
  {
   "cell_type": "code",
   "execution_count": null,
   "metadata": {},
   "outputs": [],
   "source": []
  },
  {
   "cell_type": "code",
   "execution_count": null,
   "metadata": {},
   "outputs": [],
   "source": []
  },
  {
   "cell_type": "code",
   "execution_count": 267,
   "metadata": {},
   "outputs": [
    {
     "data": {
      "image/png": "[encoded data removed]",
      "text/plain": [
       "<Figure size 432x288 with 1 Axes>"
      ]
     },
     "metadata": {
      "needs_background": "light"
     },
     "output_type": "display_data"
    }
   ],
   "source": [
    "# length of summaries vs length of emails\n",
    "\n",
    "import matplotlib.pyplot as plt\n",
    "fig = plt.figure()\n",
    "ax = fig.add_axes([0,0,1,1])\n",
    "langs = ['summaries', 'emails']\n",
    "plt.title('AESLC corpus: average amount of words for emails and summaries')\n",
    "plt.ylabel('average amount of words')\n",
    "students = [5, 84]\n",
    "ax.bar(langs,students)\n",
    "#plt.savefig('Average_amount_words_emails_summaries')\n",
    "plt.show()"
   ]
  },
  {
   "cell_type": "code",
   "execution_count": null,
   "metadata": {},
   "outputs": [],
   "source": []
  },
  {
   "cell_type": "code",
   "execution_count": null,
   "metadata": {},
   "outputs": [],
   "source": [
    "average ROUGE score =  0.8646718299062048\n",
    "average BLEU score =  0.8686755952380952"
   ]
  },
  {
   "cell_type": "code",
   "execution_count": 233,
   "metadata": {},
   "outputs": [],
   "source": [
    "# r_4              # 0.984375\n",
    "# b_4              # 0.9759114583333334\n",
    "\n",
    "#r_8              # 0.8646718299062048\n",
    "#b_8              # 0.8686755952380952\n",
    "\n",
    "# r_16               # 0.40672348484848486\n",
    "# b_16               # 0.40813802083333334\n",
    "\n",
    "# r_32              # 0.19148065476190476\n",
    "# b_32              # 0.2107204861111111\n",
    "\n"
   ]
  },
  {
   "cell_type": "code",
   "execution_count": 247,
   "metadata": {},
   "outputs": [
    {
     "data": {
      "image/png": "[encoded data removed]",
      "text/plain": [
       "<Figure size 432x288 with 1 Axes>"
      ]
     },
     "metadata": {
      "needs_background": "light"
     },
     "output_type": "display_data"
    }
   ],
   "source": [
    "data = [[0.984375, 0.9759114583333334],\n",
    "        [0.8646718299062048,0.8686755952380952],\n",
    "        [0.40672348484848486,0.40813802083333334],\n",
    "        [0.19148065476190476,0.2107204861111111]]\n",
    "\n",
    "\n",
    "\n",
    "labels = ['4', '8', '16', '32']\n",
    "rrr = [0.98, 0.86, 0.41, 0.19]\n",
    "bbb = [0.98, 0.87, 0.41, 0.21]\n",
    "\n",
    "x = np.arange(len(labels))  # the label locations\n",
    "width = 0.35  # the width of the bars\n",
    "\n",
    "fig, ax = plt.subplots()\n",
    "rects1 = ax.bar(x - width/2, rrr, width, label='ROUGE')\n",
    "rects2 = ax.bar(x + width/2, bbb, width, label='BLEU')\n",
    "\n",
    "# Add some text for labels, title and custom x-axis tick labels, etc.\n",
    "ax.set_ylabel('ROUGE & BLEU score')\n",
    "ax.set_xlabel('batch size')\n",
    "ax.set_title('ROUGE, BLEU for test data, depending on batch size')\n",
    "ax.set_xticks(x)\n",
    "ax.set_xticklabels(labels)\n",
    "ax.legend()\n",
    "\n",
    "\n",
    "def autolabel(rects):\n",
    "    \"\"\"Attach a text label above each bar in *rects*, displaying its height.\"\"\"\n",
    "    for rect in rects:\n",
    "        height = rect.get_height()\n",
    "        ax.annotate('{}'.format(height),\n",
    "                    xy=(rect.get_x() + rect.get_width() / 2, height),\n",
    "                    xytext=(0, 3),  # 3 points vertical offset\n",
    "                    textcoords=\"offset points\",\n",
    "                    ha='center', va='bottom')\n",
    "\n",
    "\n",
    "autolabel(rects1)\n",
    "autolabel(rects2)\n",
    "\n",
    "\n",
    "\n",
    "fig.tight_layout()\n",
    "\n",
    "#plt.savefig('test_r_b_batchsz.png')\n",
    "plt.show()"
   ]
  },
  {
   "cell_type": "code",
   "execution_count": null,
   "metadata": {},
   "outputs": [],
   "source": []
  },
  {
   "cell_type": "code",
   "execution_count": null,
   "metadata": {},
   "outputs": [],
   "source": []
  },
  {
   "cell_type": "code",
   "execution_count": null,
   "metadata": {},
   "outputs": [],
   "source": []
  },
  {
   "cell_type": "code",
   "execution_count": null,
   "metadata": {},
   "outputs": [],
   "source": []
  },
  {
   "cell_type": "code",
   "execution_count": null,
   "metadata": {},
   "outputs": [],
   "source": []
  },
  {
   "cell_type": "code",
   "execution_count": null,
   "metadata": {},
   "outputs": [],
   "source": []
  },
  {
   "cell_type": "code",
   "execution_count": null,
   "metadata": {},
   "outputs": [],
   "source": []
  },
  {
   "cell_type": "code",
   "execution_count": null,
   "metadata": {},
   "outputs": [],
   "source": []
  },
  {
   "cell_type": "code",
   "execution_count": 266,
   "metadata": {
    "scrolled": true
   },
   "outputs": [
    {
     "data": {
      "image/png": "[encoded data removed]",
      "text/plain": [
       "<Figure size 432x288 with 1 Axes>"
      ]
     },
     "metadata": {
      "needs_background": "light"
     },
     "output_type": "display_data"
    }
   ],
   "source": [
    "# length of summaries vs length of emails\n",
    "# average email length =  770.1951013513514\n",
    "# average y length =  29.68581081081081\n",
    "\n",
    "\"\"\"\n",
    "handles, labels = ax.get_legend_handles_labels()\n",
    "ax.legend(handles, labels)\n",
    "\n",
    "plt.title('ROUGE & BLEU in Epoch x, batch size 8')\n",
    "plt.ylabel('ROUGE & BLEU score')\n",
    "plt.xlabel('Epoch')\n",
    "line_up, = plt.plot(rouge_val, label='ROUGE')\n",
    "line_down, = plt.plot(bleu_val, label='BLEU')\n",
    "#plt.savefig('blaaaa.png')\n",
    "plt.legend(handles=[line_up, line_down])\n",
    "\"\"\"\n",
    "\n",
    "\n",
    "import matplotlib.pyplot as plt\n",
    "fig = plt.figure()\n",
    "ax = fig.add_axes([0,0,1,1])\n",
    "langs = ['summaries', 'chapters']\n",
    "plt.title('Bible corpus: average amount of words for summaries and chapters')\n",
    "plt.ylabel('average amount of words')\n",
    "students = [30, 770]\n",
    "plt.subplots_adjust(left=0, bottom=0, right=1, top=1, wspace=1, hspace=1)\n",
    "ax.bar(langs,students)\n",
    "\n",
    "#plt.savefig('bible_Average_amount_words_emails_summaries')\n",
    "plt.show()"
   ]
  },
  {
   "cell_type": "code",
   "execution_count": null,
   "metadata": {},
   "outputs": [],
   "source": []
  }
 ],
 "metadata": {
  "kernelspec": {
   "display_name": "Python 3",
   "language": "python",
   "name": "python3"
  },
  "language_info": {
   "codemirror_mode": {
    "name": "ipython",
    "version": 3
   },
   "file_extension": ".py",
   "mimetype": "text/x-python",
   "name": "python",
   "nbconvert_exporter": "python",
   "pygments_lexer": "ipython3",
   "version": "3.7.6"
  }
 },
 "nbformat": 4,
 "nbformat_minor": 4
}